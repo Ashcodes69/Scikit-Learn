{
 "cells": [
  {
   "cell_type": "code",
   "execution_count": 6,
   "id": "26f04c49",
   "metadata": {},
   "outputs": [],
   "source": [
    "from sklearn.preprocessing import LabelEncoder\n",
    "import pandas as pd"
   ]
  },
  {
   "cell_type": "markdown",
   "id": "2ae8f1ec",
   "metadata": {},
   "source": [
    "#### label Encoding \n",
    "(works only if there just two types of values)"
   ]
  },
  {
   "cell_type": "code",
   "execution_count": 7,
   "id": "b5a3ee92",
   "metadata": {},
   "outputs": [
    {
     "name": "stdout",
     "output_type": "stream",
     "text": [
      "     Name  Gender       City Passed  Gender_encoded  Passed_Encoded\n",
      "0    Aman    Male      Delhi    Yes               1               1\n",
      "1   Priya  Female     Mumbai    Yes               0               1\n",
      "2   Rahul    Male  Bangalore     No               1               0\n",
      "3  Anjali  Female     Mumbai    Yes               0               1\n",
      "4    Ravi    Male      Delhi    Yes               1               1\n"
     ]
    }
   ],
   "source": [
    "df = pd.read_csv('sampleData.csv')\n",
    "df_label = df.copy()\n",
    "\n",
    "le = LabelEncoder()\n",
    "df_label['Gender_encoded'] = le.fit_transform(df_label['Gender'])\n",
    "df_label['Passed_Encoded'] = le.fit_transform(df_label['Passed'])\n",
    "print(df_label.head())"
   ]
  },
  {
   "cell_type": "markdown",
   "id": "05c4a62b",
   "metadata": {},
   "source": [
    "#### Encoding using pd.get_domies()"
   ]
  },
  {
   "cell_type": "code",
   "execution_count": 8,
   "id": "0c91192e",
   "metadata": {},
   "outputs": [
    {
     "name": "stdout",
     "output_type": "stream",
     "text": [
      "     Name  Gender Passed  City_Bangalore  City_Chennai  City_Delhi  \\\n",
      "0    Aman    Male    Yes               0             0           1   \n",
      "1   Priya  Female    Yes               0             0           0   \n",
      "2   Rahul    Male     No               1             0           0   \n",
      "3  Anjali  Female    Yes               0             0           0   \n",
      "4    Ravi    Male    Yes               0             0           1   \n",
      "\n",
      "   City_Mumbai  \n",
      "0            0  \n",
      "1            1  \n",
      "2            0  \n",
      "3            1  \n",
      "4            0  \n"
     ]
    }
   ],
   "source": [
    "df_encoded = pd.get_dummies(df, columns=['City'],dtype=int)\n",
    "print(df_encoded.head())"
   ]
  },
  {
   "cell_type": "code",
   "execution_count": 9,
   "id": "5089456c",
   "metadata": {},
   "outputs": [
    {
     "name": "stdout",
     "output_type": "stream",
     "text": [
      "Using standrad scaler: \n",
      "   StudyHours  TestScore\n",
      "0   -1.414214  -1.414214\n",
      "1   -0.707107  -0.707107\n",
      "2    0.000000   0.000000\n",
      "3    0.707107   0.707107\n",
      "4    1.414214   1.414214\n",
      "\n",
      " Using MinMax scaler: \n",
      "\n",
      "   StudyHours  TestScore\n",
      "0        0.00       0.00\n",
      "1        0.25       0.25\n",
      "2        0.50       0.50\n",
      "3        0.75       0.75\n",
      "4        1.00       1.00\n"
     ]
    }
   ],
   "source": [
    "import pandas as pd\n",
    "from sklearn.preprocessing import StandardScaler,MinMaxScaler\n",
    "\n",
    "data = {\n",
    "  \"StudyHours\":[1,2,3,4,5],\n",
    "  'TestScore':[40,50,60,70,80]\n",
    "}\n",
    "\n",
    "df = pd.DataFrame(data)\n",
    "\n",
    "# Standrad scaler\n",
    "standrad_scaler = StandardScaler()\n",
    "standrad_scaled = standrad_scaler.fit_transform(df)\n",
    "print('Using standrad scaler: ')\n",
    "print(pd.DataFrame(standrad_scaled, columns=['StudyHours','TestScore']))\n",
    "\n",
    "# Min Max scaler\n",
    "minmax_scaler = MinMaxScaler()\n",
    "minmax_scaled = minmax_scaler.fit_transform(df)\n",
    "print('\\n Using MinMax scaler: \\n')\n",
    "print(pd.DataFrame(minmax_scaled,columns=['StudyHours','TestScore']))"
   ]
  },
  {
   "cell_type": "markdown",
   "id": "e5d2bbe9",
   "metadata": {},
   "source": [
    "#### Split DatsFrame using train_test_split()"
   ]
  },
  {
   "cell_type": "code",
   "execution_count": 10,
   "id": "908af256",
   "metadata": {},
   "outputs": [
    {
     "name": "stdout",
     "output_type": "stream",
     "text": [
      "Traning data: \n",
      "   StudyHours\n",
      "4           5\n",
      "2           3\n",
      "0           1\n",
      "3           4\n",
      "Testing data: \n",
      "   StudyHours\n",
      "1           2\n"
     ]
    }
   ],
   "source": [
    "from sklearn.model_selection import train_test_split\n",
    "# print('Data: ')\n",
    "# print(df)\n",
    "# train test split\n",
    "X = df[[\"StudyHours\"]]\n",
    "y = df[[\"TestScore\"]]\n",
    "X_train , X_test, y_train,y_test = train_test_split(X, y, test_size=0.2, random_state=42)\n",
    "\n",
    "print('Traning data: ')\n",
    "print(X_train)\n",
    "print('Testing data: ')\n",
    "print(X_test)"
   ]
  }
 ],
 "metadata": {
  "kernelspec": {
   "display_name": "env",
   "language": "python",
   "name": "python3"
  },
  "language_info": {
   "codemirror_mode": {
    "name": "ipython",
    "version": 3
   },
   "file_extension": ".py",
   "mimetype": "text/x-python",
   "name": "python",
   "nbconvert_exporter": "python",
   "pygments_lexer": "ipython3",
   "version": "3.13.5"
  }
 },
 "nbformat": 4,
 "nbformat_minor": 5
}
