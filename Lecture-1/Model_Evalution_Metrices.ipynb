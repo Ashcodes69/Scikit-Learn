{
 "cells": [
  {
   "cell_type": "markdown",
   "id": "4dc74f45",
   "metadata": {},
   "source": [
    "### Scores Metrices"
   ]
  },
  {
   "cell_type": "code",
   "execution_count": 6,
   "id": "d4986344",
   "metadata": {},
   "outputs": [
    {
     "name": "stdout",
     "output_type": "stream",
     "text": [
      "Accurecy:  0.7142857142857143\n",
      "Precision:  0.75\n",
      "Recall:  0.75\n",
      "F1:  0.75\n"
     ]
    }
   ],
   "source": [
    "from sklearn.metrics import accuracy_score, precision_score, recall_score, f1_score\n",
    "\n",
    "# True Answers\n",
    "y_true = [1, 0, 0, 1, 1, 0, 1]\n",
    "\n",
    "# Models prediction\n",
    "y_pred = [1, 1, 0, 1, 0, 0, 1]\n",
    "\n",
    "print(\"Accurecy: \", accuracy_score(y_true, y_pred))\n",
    "print(\"Precision: \", precision_score(y_true, y_pred))\n",
    "print(\"Recall: \", recall_score(y_true, y_pred))\n",
    "print(\"F1: \", f1_score(y_true, y_pred))"
   ]
  },
  {
   "cell_type": "markdown",
   "id": "867d7b82",
   "metadata": {},
   "source": [
    "### Confusion Metrics"
   ]
  },
  {
   "cell_type": "code",
   "execution_count": 8,
   "id": "0c396909",
   "metadata": {},
   "outputs": [
    {
     "name": "stdout",
     "output_type": "stream",
     "text": [
      "Confusion Metrics: \n",
      "[[2 1]\n",
      " [1 3]]\n"
     ]
    }
   ],
   "source": [
    "from sklearn.metrics import confusion_matrix\n",
    "\n",
    "# True Answers\n",
    "y_true = [1, 0, 0, 1, 1, 0, 1]\n",
    "\n",
    "# Models prediction\n",
    "y_pred = [1, 1, 0, 1, 0, 0, 1]\n",
    "\n",
    "cf_matt = confusion_matrix(y_true, y_pred)\n",
    "print('Confusion Metrics: ')\n",
    "print(cf_matt)\n",
    "\n",
    "# in output\n",
    "#  [[2 = tp  1 = tn]\n",
    "#  [1 = fp  3=fn]]"
   ]
  },
  {
   "cell_type": "markdown",
   "id": "19cb0f72",
   "metadata": {},
   "source": [
    "### MAE, MSE, RMSE"
   ]
  },
  {
   "cell_type": "code",
   "execution_count": null,
   "id": "547ae36e",
   "metadata": {},
   "outputs": [
    {
     "name": "stdout",
     "output_type": "stream",
     "text": [
      "MAE, On average off by:  8.75\n",
      "MSE, Squared mistake value:  81.25\n",
      "RMSE, Final realistic error:  9.013878188659973\n"
     ]
    }
   ],
   "source": [
    "from sklearn.metrics import mean_absolute_error, mean_squared_error\n",
    "import numpy as np\n",
    "\n",
    "# real Scroes\n",
    "rs = [90, 60, 80, 100]\n",
    "# predicted scroes\n",
    "ps = [80, 70, 70, 95]\n",
    "\n",
    "mae = mean_absolute_error(rs, ps)\n",
    "mse = mean_squared_error(rs, ps)\n",
    "rmse = np.sqrt(mse)\n",
    "\n",
    "print(\"MAE, On average off by: \", mae)\n",
    "print(\"MSE, Squared mistake value: \", mse)\n",
    "print(\"RMSE, Final realistic error: \", rmse)"
   ]
  }
 ],
 "metadata": {
  "kernelspec": {
   "display_name": "env",
   "language": "python",
   "name": "python3"
  },
  "language_info": {
   "codemirror_mode": {
    "name": "ipython",
    "version": 3
   },
   "file_extension": ".py",
   "mimetype": "text/x-python",
   "name": "python",
   "nbconvert_exporter": "python",
   "pygments_lexer": "ipython3",
   "version": "3.13.5"
  }
 },
 "nbformat": 4,
 "nbformat_minor": 5
}
