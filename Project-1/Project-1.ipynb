{
 "cells": [
  {
   "cell_type": "code",
   "execution_count": 1,
   "id": "c06aace7",
   "metadata": {},
   "outputs": [],
   "source": [
    "import pandas as pd\n",
    "import numpy as np\n",
    "from sklearn.linear_model import LinearRegression\n",
    "from sklearn.metrics import mean_absolute_error, mean_squared_error"
   ]
  },
  {
   "cell_type": "code",
   "execution_count": 9,
   "id": "f86dd33c",
   "metadata": {},
   "outputs": [
    {
     "name": "stdout",
     "output_type": "stream",
     "text": [
      "   Hours  Score\n",
      "0      1     52\n",
      "1      2     57\n",
      "2      3     65\n",
      "3      4     70\n",
      "4      5     75\n",
      "5      6     80\n"
     ]
    }
   ],
   "source": [
    "data = pd.read_csv('P1Data.csv')\n",
    "print(data)"
   ]
  },
  {
   "cell_type": "code",
   "execution_count": 10,
   "id": "c0b4badb",
   "metadata": {},
   "outputs": [
    {
     "name": "stdout",
     "output_type": "stream",
     "text": [
      "[[52.28571429]\n",
      " [57.97142857]\n",
      " [63.65714286]\n",
      " [69.34285714]\n",
      " [75.02857143]\n",
      " [80.71428571]]\n",
      "   Hours  Score  Predicted_score\n",
      "0      1     52        52.285714\n",
      "1      2     57        57.971429\n",
      "2      3     65        63.657143\n",
      "3      4     70        69.342857\n",
      "4      5     75        75.028571\n",
      "5      6     80        80.714286\n"
     ]
    }
   ],
   "source": [
    "X= data[['Hours']]\n",
    "y=data[['Score']]\n",
    "\n",
    "model = LinearRegression()\n",
    "model.fit(X,y)\n",
    "\n",
    "predicted_score = model.predict(X)\n",
    "data['Predicted_score'] = predicted_score\n",
    "print(predicted_score)\n",
    "print(data)"
   ]
  },
  {
   "cell_type": "code",
   "execution_count": 6,
   "id": "32597b07",
   "metadata": {},
   "outputs": [
    {
     "name": "stdout",
     "output_type": "stream",
     "text": [
      "Mean Absolute ERROR (MAE):  0.6666666666666643\n",
      "Mean Squared ERROR (MSE):  0.6285714285714282\n",
      "Root Mean Squared ERROR (RMSE):  0.7928249671720916\n"
     ]
    }
   ],
   "source": [
    "# Evaluate\n",
    "mae = mean_absolute_error(y,predicted_score)\n",
    "mse = mean_squared_error(y,predicted_score)\n",
    "rmse = np.sqrt(mse)\n",
    "\n",
    "print(\"Mean Absolute ERROR (MAE): \",mae)\n",
    "print(\"Mean Squared ERROR (MSE): \",mse)\n",
    "print(\"Root Mean Squared ERROR (RMSE): \",rmse)"
   ]
  }
 ],
 "metadata": {
  "kernelspec": {
   "display_name": "env",
   "language": "python",
   "name": "python3"
  },
  "language_info": {
   "codemirror_mode": {
    "name": "ipython",
    "version": 3
   },
   "file_extension": ".py",
   "mimetype": "text/x-python",
   "name": "python",
   "nbconvert_exporter": "python",
   "pygments_lexer": "ipython3",
   "version": "3.13.5"
  }
 },
 "nbformat": 4,
 "nbformat_minor": 5
}
