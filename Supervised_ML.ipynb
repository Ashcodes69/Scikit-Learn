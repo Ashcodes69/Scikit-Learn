{
 "cells": [
  {
   "cell_type": "markdown",
   "id": "2856c58e",
   "metadata": {},
   "source": [
    "### Linear Regression"
   ]
  },
  {
   "cell_type": "code",
   "execution_count": null,
   "id": "25c6969f",
   "metadata": {},
   "outputs": [
    {
     "name": "stdout",
     "output_type": "stream",
     "text": [
      "Based on your study Time 7.0 hours You will get [100.] marks\n"
     ]
    }
   ],
   "source": [
    "from sklearn.linear_model import LinearRegression\n",
    "\n",
    "model = LinearRegression()\n",
    "\n",
    "X = [[1], [2], [3], [4]]\n",
    "y = [40, 50, 60, 70]\n",
    "\n",
    "model.fit(X, y)\n",
    "\n",
    "hours = float(input(\"Tell me how mzny hours you studied: \"))\n",
    "\n",
    "predicted_marks = model.predict([[hours]])\n",
    "\n",
    "print(f\"Based on your study Time {hours} hours You will get {predicted_marks} marks\")"
   ]
  },
  {
   "cell_type": "markdown",
   "id": "dc6b86e0",
   "metadata": {},
   "source": [
    "### Logistic Regression "
   ]
  },
  {
   "cell_type": "code",
   "execution_count": null,
   "id": "6561c46b",
   "metadata": {},
   "outputs": [
    {
     "name": "stdout",
     "output_type": "stream",
     "text": [
      "Based on your study Time 8.0 hours You are likely to PASS\n"
     ]
    }
   ],
   "source": [
    "from sklearn.linear_model import LogisticRegression\n",
    "\n",
    "model = LogisticRegression()\n",
    "\n",
    "X = [[1], [2], [3], [4], [5]]  # hours studied\n",
    "y = [0, 0, 0, 1, 1]  # pass or fail\n",
    "\n",
    "model.fit(X, y)\n",
    "\n",
    "hours = float(input(\"Tell me how mzny hours you studied: \"))\n",
    "\n",
    "res = model.predict([[hours]])[0]\n",
    "\n",
    "if res == 1:\n",
    "    print(f\"Based on your study Time {hours} hours You are likely to PASS\")\n",
    "else:\n",
    "    print(f\"Based on your study Time {hours} hours You are likely to FAIL\")"
   ]
  },
  {
   "cell_type": "markdown",
   "id": "65293e2e",
   "metadata": {},
   "source": [
    "### K Neighbors"
   ]
  },
  {
   "cell_type": "code",
   "execution_count": null,
   "id": "d6355fe6",
   "metadata": {},
   "outputs": [
    {
     "name": "stdout",
     "output_type": "stream",
     "text": [
      "Its an APPLE\n"
     ]
    }
   ],
   "source": [
    "from sklearn.neighbors import KNeighborsClassifier\n",
    "\n",
    "X = [[100, 7], [200, 7.5], [250, 8], [300, 8.5], [330, 9], [360, 9.5]]\n",
    "y = [0, 0, 0, 1, 1, 1]  # 0 for orange 1 for apple\n",
    "\n",
    "model = KNeighborsClassifier(n_neighbors=3)\n",
    "model.fit(X, y)\n",
    "\n",
    "weight = float(input(\"Enter weight of the frouit: \"))\n",
    "size = float(input(\"Enter size of the frouit: \"))\n",
    "\n",
    "res = model.predict([[weight, size]])[0]\n",
    "\n",
    "if res == 0:\n",
    "    print(\"Its an ORANGE\")\n",
    "else:\n",
    "    print(\"Its an APPLE\")"
   ]
  },
  {
   "cell_type": "markdown",
   "id": "6c925d99",
   "metadata": {},
   "source": [
    "### Decision Tree"
   ]
  },
  {
   "cell_type": "code",
   "execution_count": 12,
   "id": "bd735249",
   "metadata": {},
   "outputs": [
    {
     "name": "stdout",
     "output_type": "stream",
     "text": [
      "Its an APPLE\n"
     ]
    }
   ],
   "source": [
    "from sklearn.tree import DecisionTreeClassifier\n",
    "\n",
    "X = [[7, 2], [8, 4], [9, 8], [8, 9]]  # ita size and color shade 1-red 10 orange\n",
    "y = [0, 0, 1, 1]  # 0 means apple 1 means orange\n",
    "\n",
    "model = DecisionTreeClassifier()\n",
    "model.fit(X, y)\n",
    "\n",
    "size = float(input(\"Enter size of the frouit: \"))\n",
    "color = float(input(\"Enter color shade of the frouit: \"))\n",
    "\n",
    "res = model.predict([[size, color]])[0]\n",
    "\n",
    "if res == 1:\n",
    "    print(\"Its an ORANGE\")\n",
    "else:\n",
    "    print(\"Its an APPLE\")"
   ]
  },
  {
   "cell_type": "code",
   "execution_count": null,
   "id": "5c314d41",
   "metadata": {},
   "outputs": [],
   "source": []
  }
 ],
 "metadata": {
  "kernelspec": {
   "display_name": "env",
   "language": "python",
   "name": "python3"
  },
  "language_info": {
   "codemirror_mode": {
    "name": "ipython",
    "version": 3
   },
   "file_extension": ".py",
   "mimetype": "text/x-python",
   "name": "python",
   "nbconvert_exporter": "python",
   "pygments_lexer": "ipython3",
   "version": "3.13.5"
  }
 },
 "nbformat": 4,
 "nbformat_minor": 5
}
